{
 "cells": [
  {
   "cell_type": "markdown",
   "id": "58c6e6ed",
   "metadata": {},
   "source": [
    "# ✅ 3. Compliance Checker for KYC Data\n",
    "This notebook evaluates extracted fields to check for required KYC compliance, including field presence, formatting, and basic fraud signals."
   ]
  },
  {
   "cell_type": "code",
   "execution_count": null,
   "id": "8387dac5",
   "metadata": {},
   "outputs": [],
   "source": [
    "# 📦 Imports\n",
    "import re\n",
    "import json\n"
   ]
  },
  {
   "cell_type": "code",
   "execution_count": null,
   "id": "0d3cb33f",
   "metadata": {},
   "outputs": [],
   "source": [
    "# 🧾 Simulated structured data from previous step (you can replace this with real input)\n",
    "kyc_data = {\n",
    "    \"name\": \"Shamee K Sharma\",\n",
    "    \"dob\": \"12/03/1998\",\n",
    "    \"gender\": \"Female\",\n",
    "    \"aadhar_number\": \"1234 5678 9012\",\n",
    "    \"address\": \"45, Sector 18, Rohini, Delhi - 110085\"\n",
    "}\n",
    "print(\"📦 Input Data:\")\n",
    "print(json.dumps(kyc_data, indent=2))\n"
   ]
  },
  {
   "cell_type": "code",
   "execution_count": null,
   "id": "9c83248a",
   "metadata": {},
   "outputs": [],
   "source": [
    "# 🛡️ Compliance Check Rules\n",
    "def run_compliance_checks(data):\n",
    "    results = {}\n",
    "\n",
    "    # Check name\n",
    "    results[\"name_present\"] = data.get(\"name\") != \"Not Found\"\n",
    "\n",
    "    # Check DOB format (dd/mm/yyyy)\n",
    "    results[\"dob_format_valid\"] = bool(re.match(r\"\\d{2}/\\d{2}/\\d{4}\", data.get(\"dob\", \"\")))\n",
    "\n",
    "    # Check Aadhar format\n",
    "    results[\"aadhar_format_valid\"] = bool(re.match(r\"\\d{4} \\d{4} \\d{4}\", data.get(\"aadhar_number\", \"\")))\n",
    "\n",
    "    # Check address length\n",
    "    results[\"address_present\"] = len(data.get(\"address\", \"\")) > 10\n",
    "\n",
    "    # Final status\n",
    "    results[\"compliance_passed\"] = all(results.values())\n",
    "    return results\n",
    "\n",
    "compliance_report = run_compliance_checks(kyc_data)\n",
    "print(\"✅ Compliance Report:\")\n",
    "print(json.dumps(compliance_report, indent=2))\n"
   ]
  },
  {
   "cell_type": "code",
   "execution_count": null,
   "id": "5f5060d9",
   "metadata": {},
   "outputs": [],
   "source": [
    "# 📤 Optionally save compliance report\n",
    "with open(\"output/compliance_report.json\", \"w\") as f:\n",
    "    json.dump(compliance_report, f, indent=2)\n",
    "print(\"📁 Report saved to output/compliance_report.json\")\n"
   ]
  }
 ],
 "metadata": {},
 "nbformat": 4,
 "nbformat_minor": 5
}