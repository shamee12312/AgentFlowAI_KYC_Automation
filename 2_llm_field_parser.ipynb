{
 "cells": [
  {
   "cell_type": "markdown",
   "id": "626138f9",
   "metadata": {},
   "source": [
    "# 🧠 2. Field Extraction using GPT-4 (or Regex fallback)\n",
    "This notebook takes raw OCR text from a KYC document and extracts structured fields like Name, DOB, Aadhar Number, and Address using GPT or simple logic."
   ]
  },
  {
   "cell_type": "code",
   "execution_count": null,
   "id": "62533bfb",
   "metadata": {},
   "outputs": [],
   "source": [
    "# ✅ Install required libraries (uncomment when needed)\n",
    "# !pip install openai\n",
    "\n",
    "import os\n",
    "import re\n",
    "import json\n",
    "# import openai  # Uncomment if using OpenAI API\n"
   ]
  },
  {
   "cell_type": "code",
   "execution_count": null,
   "id": "4a481901",
   "metadata": {},
   "outputs": [],
   "source": [
    "# 📜 Paste OCR output here (for testing you can use manually copied text)\n",
    "\n",
    "ocr_text = \"\"\"GOVERNMENT OF INDIA\n",
    "Name: Shamee K Sharma\n",
    "DOB: 12/03/1998\n",
    "Gender: Female\n",
    "Aadhar No: 1234 5678 9012\n",
    "Address: 45, Sector 18, Rohini, Delhi - 110085\n",
    "\"\"\"\n",
    "print(ocr_text)\n"
   ]
  },
  {
   "cell_type": "code",
   "execution_count": null,
   "id": "1f0c4ba9",
   "metadata": {},
   "outputs": [],
   "source": [
    "# 🧠 Extract fields using regular expressions (as a fallback if no GPT)\n",
    "\n",
    "def extract_fields(text):\n",
    "    fields = {\n",
    "        \"name\": re.search(r\"Name[:\\-]?\\s*(.*)\", text),\n",
    "        \"dob\": re.search(r\"DOB[:\\-]?\\s*(.*)\", text),\n",
    "        \"gender\": re.search(r\"Gender[:\\-]?\\s*(.*)\", text),\n",
    "        \"aadhar_number\": re.search(r\"Aadhar No[:\\-]?\\s*([0-9 ]+)\", text),\n",
    "        \"address\": re.search(r\"Address[:\\-]?\\s*(.*)\", text)\n",
    "    }\n",
    "\n",
    "    result = {key: match.group(1).strip() if match else \"Not Found\" for key, match in fields.items()}\n",
    "    return result\n",
    "\n",
    "structured_data = extract_fields(ocr_text)\n",
    "print(\"📦 Extracted Fields:\")\n",
    "print(json.dumps(structured_data, indent=2))\n"
   ]
  },
  {
   "cell_type": "markdown",
   "id": "34daca58",
   "metadata": {},
   "source": [
    "👉 **Next Steps**:\n",
    "- Replace with GPT-4 API logic if needed\n",
    "- Save results to JSON or pass to compliance checker\n",
    "- Build UI for user to upload, see results, and download summary"
   ]
  }
 ],
 "metadata": {},
 "nbformat": 4,
 "nbformat_minor": 5
}