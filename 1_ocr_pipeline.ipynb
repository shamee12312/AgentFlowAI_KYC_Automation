{
 "cells": [
  {
   "cell_type": "markdown",
   "id": "f3759ad1",
   "metadata": {},
   "source": [
    "# 🧾 1. OCR Pipeline for KYC Document Extraction\n",
    "This notebook allows you to manually provide a file path for a KYC document image and extract raw text using Tesseract OCR."
   ]
  },
  {
   "cell_type": "code",
   "execution_count": null,
   "id": "742ae23e",
   "metadata": {},
   "outputs": [],
   "source": [
    "# ✅ Install required libraries (if not already installed)\n",
    "# !pip install pytesseract Pillow\n"
   ]
  },
  {
   "cell_type": "code",
   "execution_count": null,
   "id": "0f75ddfe",
   "metadata": {},
   "outputs": [],
   "source": [
    "# 📦 Import libraries\n",
    "from PIL import Image\n",
    "import pytesseract\n",
    "import os\n"
   ]
  },
  {
   "cell_type": "code",
   "execution_count": null,
   "id": "71c9c4d3",
   "metadata": {},
   "outputs": [],
   "source": [
    "# 📂 Step 1: Manually enter the path to your image file\n",
    "# Example: 'data/sample_aadhar.png'\n",
    "file_path = 'data/sample_aadhar.png'  # 🔁 Replace with your actual file path\n",
    "\n",
    "# Check if the file exists\n",
    "if not os.path.exists(file_path):\n",
    "    raise FileNotFoundError(f\"❌ File not found at: {file_path}\")\n",
    "else:\n",
    "    print(f\"✅ File found: {file_path}\")\n"
   ]
  },
  {
   "cell_type": "code",
   "execution_count": null,
   "id": "91c2406b",
   "metadata": {},
   "outputs": [],
   "source": [
    "# 🔍 Step 2: Extract text using OCR\n",
    "def extract_text_from_image(img_path):\n",
    "    try:\n",
    "        img = Image.open(img_path)\n",
    "        text = pytesseract.image_to_string(img)\n",
    "        return text\n",
    "    except Exception as e:\n",
    "        return f\"❌ Error: {str(e)}\"\n",
    "\n",
    "# Run OCR\n",
    "ocr_text = extract_text_from_image(file_path)\n",
    "\n",
    "# 📄 Display the extracted text\n",
    "print(\"📝 OCR Extracted Text:\\n\")\n",
    "print(ocr_text)\n"
   ]
  }
 ],
 "metadata": {},
 "nbformat": 4,
 "nbformat_minor": 5
}